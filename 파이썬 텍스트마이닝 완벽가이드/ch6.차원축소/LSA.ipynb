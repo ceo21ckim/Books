{
 "cells": [
  {
   "cell_type": "markdown",
   "metadata": {},
   "source": [
    "### Latent Semantic Analysis"
   ]
  },
  {
   "cell_type": "code",
   "execution_count": 2,
   "metadata": {},
   "outputs": [],
   "source": [
    "# 20개의 토픽 중 선택하고자 하는 토픽을 리스트로 생성\n",
    "from sklearn.datasets import fetch_20newsgroups\n",
    "categories = ['alt.atheism', 'talk.religion.misc', 'comp.graphics', 'sci.space']\n",
    "\n",
    "newsgroups_train = fetch_20newsgroups(subset='train',\n",
    "                                      remove=('headers', 'footers', 'quotes'),\n",
    "                                      categories=categories)\n",
    "\n",
    "newsgroups_test = fetch_20newsgroups(subset='test',\n",
    "                                      remove=('headers', 'footers', 'quotes'),\n",
    "                                      categories=categories)\n",
    "\n",
    "from sklearn.feature_extraction.text import TfidfVectorizer\n",
    "\n",
    "from nltk.corpus import stopwords \n",
    "cachedStopWords = stopwords.words(\"english\")\n",
    "\n",
    "from nltk.tokenize import RegexpTokenizer\n",
    "from nltk.stem.porter import PorterStemmer\n",
    "\n",
    "X_train = newsgroups_train.data \n",
    "y_train = newsgroups_train.target \n",
    "\n",
    "X_test = newsgroups_test.data \n",
    "y_test = newsgroups_test.target \n",
    "\n",
    "RegTok = RegexpTokenizer(\"[\\w']{3,}\")\n",
    "english_stops = set(stopwords.words('english'))\n",
    "\n",
    "def tokenizer(text):\n",
    "    tokens = RegTok.tokenize(text.lower())\n",
    "    words = [word for word in tokens if (word not in english_stops) and len(word) > 2 ]\n",
    "    features = (list(map(lambda token: PorterStemmer().stem(token), words)))\n",
    "    return features\n",
    "\n",
    "tfidf = TfidfVectorizer(tokenizer = tokenizer)\n",
    "x_train_tfidf = tfidf.fit_transform(X_train)\n",
    "x_test_tfidf = tfidf.transform(X_test)"
   ]
  },
  {
   "cell_type": "code",
   "execution_count": 3,
   "metadata": {},
   "outputs": [],
   "source": [
    "# TruncatedSVD -> LSA\n",
    "# 절단된 SVD에서는 tfidf를 toarray()로 변환해주지 않더라도 인식한다. \n",
    "from sklearn.decomposition import TruncatedSVD \n",
    "svd = TruncatedSVD(n_components=2000, random_state=7) # latent_dim \n",
    "x_train_lsa = svd.fit_transform(x_train_tfidf)\n",
    "x_test_lsa = svd.transform(x_test_tfidf)"
   ]
  },
  {
   "cell_type": "code",
   "execution_count": 4,
   "metadata": {},
   "outputs": [
    {
     "name": "stdout",
     "output_type": "stream",
     "text": [
      "LSA Converted X shape: (2034, 2000)\n",
      "Sum of explained variance ratio: 1.000\n",
      "#Train set score: 0.962\n",
      "#Test set score: 0.761\n"
     ]
    }
   ],
   "source": [
    "print('LSA Converted X shape:', x_train_lsa.shape)\n",
    "print(f'Sum of explained variance ratio: {svd.explained_variance_ratio_.sum():.3f}')\n",
    "\n",
    "from sklearn.linear_model import LogisticRegression\n",
    "lr_clf = LogisticRegression()\n",
    "\n",
    "lr_clf.fit(x_train_lsa, y_train)\n",
    "print(f'#Train set score: {lr_clf.score(x_train_lsa, y_train):.3f}')\n",
    "print(f'#Test set score: {lr_clf.score(x_test_lsa, y_test):.3f}')"
   ]
  },
  {
   "cell_type": "code",
   "execution_count": 5,
   "metadata": {},
   "outputs": [
    {
     "name": "stdout",
     "output_type": "stream",
     "text": [
      "Sum of explained variance ratio: 0.209\n",
      "#Train set score: 0.810\n",
      "#Test set score: 0.735\n"
     ]
    }
   ],
   "source": [
    "svd = TruncatedSVD(n_components=100, random_state=7)\n",
    "\n",
    "x_train_lsa = svd.fit_transform(x_train_tfidf)\n",
    "x_test_lsa = svd.transform(x_test_tfidf)\n",
    "\n",
    "lr_clf.fit(x_train_lsa, y_train)\n",
    "print(f'Sum of explained variance ratio: {svd.explained_variance_ratio_.sum():.3f}')\n",
    "print(f'#Train set score: {lr_clf.score(x_train_lsa, y_train):.3f}')\n",
    "print(f'#Test set score: {lr_clf.score(x_test_lsa, y_test):.3f}')"
   ]
  },
  {
   "cell_type": "markdown",
   "metadata": {},
   "source": [
    "### LSA를 이용한 의미 기반의 문서 간 유사도 계산"
   ]
  },
  {
   "cell_type": "code",
   "execution_count": 6,
   "metadata": {},
   "outputs": [
    {
     "name": "stdout",
     "output_type": "stream",
     "text": [
      "#사용된 전체 카테고리: ['alt.atheism', 'comp.graphics', 'sci.space', 'talk.religion.misc']\n",
      "#첫 문서의 카테고리: 1\n",
      "#Top 20 유사도(lsa):\n",
      " [1.0, 0.75, 0.74, 0.72, 0.71, 0.7, 0.69, 0.69, 0.67, 0.67, 0.66, 0.66, 0.65, 0.65, 0.65, 0.6, 0.59, 0.58, 0.58, 0.57]\n",
      "#Top 20 유사 뉴스의 인덱스(lsa):\n",
      " [   0 1957  501 1674 1995  790 1209  998 1892 1490 1728 1902 1038 1575\n",
      "  892 1290 1826 1029 1089  651]\n",
      "#Top 20 유사 뉴스의 카테고리(lsa):\n",
      " [1, 1, 1, 1, 1, 1, 1, 1, 1, 1, 1, 1, 1, 1, 1, 1, 1, 1, 1, 1]\n"
     ]
    }
   ],
   "source": [
    "from sklearn.metrics.pairwise import cosine_similarity\n",
    "\n",
    "print('#사용된 전체 카테고리:', newsgroups_train.target_names)\n",
    "print('#첫 문서의 카테고리:', y_train[0])\n",
    "\n",
    "# 변환된 count vector와 기존 값들과의 similarity 계산 \n",
    "sim_result = cosine_similarity([x_train_lsa[0]], x_train_lsa) # 0번째 문서와 각 문서를 비교함.\n",
    "\n",
    "print('#Top 20 유사도(lsa):\\n', sorted(sim_result[0].round(2), reverse=True)[:20])\n",
    "sim_index = (-sim_result[0]).argsort()[:20]\n",
    "print('#Top 20 유사 뉴스의 인덱스(lsa):\\n', sim_index)\n",
    "\n",
    "sim_labels = [y_train[i] for i in sim_index]\n",
    "print(\"#Top 20 유사 뉴스의 카테고리(lsa):\\n\", sim_labels)"
   ]
  },
  {
   "cell_type": "code",
   "execution_count": 7,
   "metadata": {},
   "outputs": [
    {
     "name": "stdout",
     "output_type": "stream",
     "text": [
      "#Top 20 유사도(lsa):\n",
      " [1.0, 0.3, 0.22, 0.21, 0.19, 0.19, 0.19, 0.17, 0.16, 0.16, 0.16, 0.15, 0.15, 0.15, 0.15, 0.15, 0.15, 0.15, 0.15, 0.14]\n",
      "#Top 20 유사 뉴스의 인덱스(lsa):\n",
      " [   0 1575 1892 1490  501 1290 1013  998 1636 1705 1995 1957 1664  651\n",
      " 1038  429 1089 1209 1728 1803]\n",
      "#Top 20 유사 뉴스의 카테고리(lsa):\n",
      " [1, 1, 1, 1, 1, 1, 1, 1, 1, 1, 1, 1, 1, 1, 1, 1, 1, 1, 1, 1]\n"
     ]
    }
   ],
   "source": [
    "sim_result = cosine_similarity(x_train_tfidf[0], x_train_tfidf)\n",
    "\n",
    "print('#Top 20 유사도(lsa):\\n', sorted(sim_result[0].round(2), reverse=True)[:20])\n",
    "sim_index = (-sim_result[0]).argsort()[:20]\n",
    "print('#Top 20 유사 뉴스의 인덱스(lsa):\\n', sim_index)\n",
    "\n",
    "sim_labels = [y_train[i] for i in sim_index]\n",
    "print(\"#Top 20 유사 뉴스의 카테고리(lsa):\\n\", sim_labels)"
   ]
  },
  {
   "cell_type": "code",
   "execution_count": 20,
   "metadata": {},
   "outputs": [
    {
     "name": "stdout",
     "output_type": "stream",
     "text": [
      "LSA Converted X shape: (2034, 10)\n",
      "Sum of explained variance ratio: 0.045\n",
      "Topic 1: ['would', 'one', 'god', 'think', 'use', 'peopl', 'know', 'like', 'say', 'space']\n",
      "Topic 2: ['file', 'imag', 'thank', 'program', 'graphic', 'space', 'format', 'use', 'color', 'ftp']\n",
      "Topic 3: ['space', 'orbit', 'nasa', 'launch', 'shuttl', 'satellit', 'year', 'moon', 'lunar', 'cost']\n",
      "Topic 4: ['moral', 'object', 'system', 'valu', 'goal', 'think', 'anim', 'absolut', 'natur', 'defin']\n",
      "Topic 5: ['ico', 'bobb', 'tek', 'beauchain', 'bronx', 'manhattan', 'sank', 'queen', 'vice', 'blew']\n",
      "Topic 6: ['god', 'file', 'imag', 'object', 'moral', 'exist', 'space', 'format', 'system', 'color']\n",
      "Topic 7: ['file', 'islam', 'imag', 'cview', 'use', 'format', 'color', 'muslim', 'religion', 'peopl']\n",
      "Topic 8: ['post', 'file', 'space', 'islam', 'read', 'cview', 'format', 'articl', 'group', 'moral']\n",
      "Topic 9: ['christian', 'graphic', 'imag', 'jesu', 'book', 'data', 'group', 'softwar', 'law', 'code']\n",
      "Topic 10: ['exist', 'atheism', 'atheist', 'graphic', 'delet', 'post', 'god', 'one', 'group', 'newsgroup']\n"
     ]
    }
   ],
   "source": [
    "svd = TruncatedSVD(n_components=10, random_state=1)\n",
    "x_train_lsa = svd.fit_transform(x_train_tfidf)\n",
    "x_test_lsa = svd.transform(x_test_tfidf)\n",
    "\n",
    "print('LSA Converted X shape:', x_train_lsa.shape)\n",
    "print(f'Sum of explained variance ratio: {svd.explained_variance_ratio_.sum():.3f}')\n",
    "\n",
    "# 각 index에 위치하는 이름을 반환해준다. \n",
    "# e.g. 1:would, 2:one ... dictionary\n",
    "terms = tfidf.get_feature_names() # 기존의 책에서는 get_feature_names_out 이지만 version차이가 있는듯.. \n",
    "def get_topics(model, feature_names, n=10):\n",
    "    for idx, topic in enumerate(model.components_): # components: 요소\n",
    "        print(\"Topic %d:\" % (idx+1), [feature_names[i] for i in topic.argsort()[:-n-1:-1]])\n",
    "get_topics(svd, terms)"
   ]
  },
  {
   "cell_type": "code",
   "execution_count": 64,
   "metadata": {},
   "outputs": [
    {
     "name": "stdout",
     "output_type": "stream",
     "text": [
      "#components_의 shape: (100, 1000)\n",
      "#singular_values_의 shape: (100,)\n",
      "#변환된 단어-잠재의미 행렬의 shape: (1000, 100)\n",
      "#Top 20 유사도(tfidf): [1.0, 0.73, 0.72, 0.69, 0.66, 0.58, 0.56, 0.56, 0.54, 0.54, 0.52, 0.52, 0.52, 0.51, 0.51, 0.5, 0.5, 0.49, 0.48, 0.47]\n",
      "#Top 20 유사 뉴스의 인덱스(tfidf): [812 314 754 829 594 679 720 650 785 565 101 435 606 545 854 746 669 856\n",
      " 611 564]\n",
      "#Top 20 유사 뉴스의 카테고리(tfidf): ['space', 'exploration', 'sci', 'station', 'office', 'propulsion', 'reports', 'planetary', 'shuttle', 'national', 'astro', 'international', 'operations', 'missions', 'technical', 'satellites', 'probes', 'telescope', 'orbiter', 'nasa']\n"
     ]
    }
   ],
   "source": [
    "import numpy as np\n",
    "tfidf = TfidfVectorizer(max_features=1000, min_df=5, max_df=0.5)\n",
    "x_train_tfidf = tfidf.fit_transform(X_train)\n",
    "\n",
    "svd = TruncatedSVD(n_components=100, random_state=1)\n",
    "x_train_lsa = svd.fit_transform(x_train_tfidf)\n",
    "\n",
    "print('#components_의 shape:', svd.components_.shape)\n",
    "print('#singular_values_의 shape:', svd.singular_values_.shape)\n",
    "\n",
    "# word의 singular_values를 보고 싶으면?\n",
    "t_words = np.diag(svd.singular_values_).dot(svd.components_).T\n",
    "print('#변환된 단어-잠재의미 행렬의 shape:', t_words.shape)\n",
    "\n",
    "# t_words에서 space에 해당하는 벡터를 가져옴\n",
    "source = t_words[tfidf.get_feature_names().index('space')]\n",
    "\n",
    "# 변환된 count vector와 기존 값들과의 similarity 계산\n",
    "sim_result = cosine_similarity([source], t_words)\n",
    "\n",
    "print('#Top 20 유사도(tfidf):', sorted(sim_result[0].round(2), reverse=True)[:20])\n",
    "sim_index = (-sim_result[0]).argsort()[:20]\n",
    "print('#Top 20 유사 뉴스의 인덱스(tfidf):', sim_index)\n",
    "sim_labels = [tfidf.get_feature_names()[i] for i in sim_index]\n",
    "print('#Top 20 유사 뉴스의 카테고리(tfidf):', sim_labels)\n"
   ]
  },
  {
   "cell_type": "code",
   "execution_count": 63,
   "metadata": {},
   "outputs": [
    {
     "data": {
      "text/plain": [
       "(array([0], dtype=int64),)"
      ]
     },
     "execution_count": 63,
     "metadata": {},
     "output_type": "execute_result"
    }
   ],
   "source": [
    "np.where(tfidf.get_feature_names().index('space'))\n"
   ]
  },
  {
   "cell_type": "code",
   "execution_count": null,
   "metadata": {},
   "outputs": [],
   "source": []
  }
 ],
 "metadata": {
  "interpreter": {
   "hash": "96cf18f209edf6220e7043c3825950920f4c7ad96ff42ffae85e8b73f5a9541f"
  },
  "kernelspec": {
   "display_name": "Python 3.9.7 ('base')",
   "language": "python",
   "name": "python3"
  },
  "language_info": {
   "codemirror_mode": {
    "name": "ipython",
    "version": 3
   },
   "file_extension": ".py",
   "mimetype": "text/x-python",
   "name": "python",
   "nbconvert_exporter": "python",
   "pygments_lexer": "ipython3",
   "version": "3.9.7"
  },
  "orig_nbformat": 4
 },
 "nbformat": 4,
 "nbformat_minor": 2
}
