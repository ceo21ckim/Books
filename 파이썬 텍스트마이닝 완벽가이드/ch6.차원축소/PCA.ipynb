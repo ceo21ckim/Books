{
 "cells": [
  {
   "cell_type": "code",
   "execution_count": 2,
   "metadata": {},
   "outputs": [],
   "source": [
    "from sklearn.datasets import fetch_20newsgroups"
   ]
  },
  {
   "cell_type": "code",
   "execution_count": 37,
   "metadata": {},
   "outputs": [],
   "source": [
    "# 20개의 토픽 중 선택하고자 하는 토픽을 리스트로 생성\n",
    "categories = ['alt.atheism', 'talk.religion.misc', 'comp.graphics', 'sci.space']\n",
    "\n",
    "newsgroups_train = fetch_20newsgroups(subset='train',\n",
    "                                      remove=('headers', 'footers', 'quotes'),\n",
    "                                      categories=categories)\n",
    "\n",
    "newsgroups_test = fetch_20newsgroups(subset='test',\n",
    "                                      remove=('headers', 'footers', 'quotes'),\n",
    "                                      categories=categories)\n",
    "\n",
    "from sklearn.feature_extraction.text import TfidfVectorizer\n",
    "\n",
    "from nltk.corpus import stopwords \n",
    "cachedStopWords = stopwords.words(\"english\")\n",
    "\n",
    "from nltk.tokenize import RegexpTokenizer\n",
    "from nltk.stem.porter import PorterStemmer\n",
    "\n",
    "X_train = newsgroups_train.data \n",
    "y_train = newsgroups_train.target \n",
    "\n",
    "X_test = newsgroups_test.data \n",
    "y_test = newsgroups_test.target \n",
    "\n",
    "RegTok = RegexpTokenizer(\"[\\w']{3,}\")\n",
    "english_stops = set(stopwords.words('english'))\n",
    "\n",
    "def tokenizer(text):\n",
    "    tokens = RegTok.tokenize(text.lower())\n",
    "    words = [word for word in tokens if (word not in english_stops) and len(word) > 2 ]\n",
    "    features = (list(map(lambda token: PorterStemmer().stem(token), words)))\n",
    "    return features\n",
    "\n",
    "tfidf = TfidfVectorizer(tokenizer = tokenizer)\n",
    "X_train_tfidf = tfidf.fit_transform(X_train)\n",
    "X_test_tfidf = tfidf.transform(X_test)"
   ]
  },
  {
   "cell_type": "code",
   "execution_count": 38,
   "metadata": {},
   "outputs": [
    {
     "name": "stdout",
     "output_type": "stream",
     "text": [
      "#Train set score: 0.962\n",
      "#Test set score: 0.761\n"
     ]
    }
   ],
   "source": [
    "from sklearn.linear_model import LogisticRegression\n",
    "lr_clf = LogisticRegression()\n",
    "lr_clf.fit(X_train_tfidf, y_train)\n",
    "\n",
    "print('#Train set score: {:.3f}'.format(lr_clf.score(X_train_tfidf, y_train)))\n",
    "print('#Test set score: {:.3f}'.format(lr_clf.score(X_test_tfidf, y_test)))\n",
    "# x_train의 경우 fit_transform\n",
    "# x_test의 경우 transform"
   ]
  },
  {
   "cell_type": "markdown",
   "metadata": {},
   "source": [
    "### PCA"
   ]
  },
  {
   "cell_type": "code",
   "execution_count": null,
   "metadata": {},
   "outputs": [],
   "source": [
    "type(X_train_tfidf)\n"
   ]
  },
  {
   "cell_type": "code",
   "execution_count": 43,
   "metadata": {},
   "outputs": [
    {
     "name": "stdout",
     "output_type": "stream",
     "text": [
      "Original tfidf matrix shape: (2034, 20085)\n",
      "PCA Converted matrix shape: (2034, 2000)\n"
     ]
    }
   ],
   "source": [
    "from sklearn.decomposition import PCA \n",
    "\n",
    "# 차원을 2000차원으로 축소\n",
    "pca = PCA(n_components=2000, random_state = 8)\n",
    "\n",
    "# tf-idf\n",
    "x_train_pca = pca.fit_transform(X_train_tfidf.toarray())\n",
    "x_test_pca = pca.transform(X_test_tfidf.toarray())\n",
    "\n",
    "print('Original tfidf matrix shape: {}'.format(X_train_tfidf.shape))\n",
    "print('PCA Converted matrix shape: {}'.format(x_train_pca.shape))"
   ]
  },
  {
   "cell_type": "code",
   "execution_count": 45,
   "metadata": {},
   "outputs": [
    {
     "data": {
      "text/plain": [
       "1.0000000000000002"
      ]
     },
     "execution_count": 45,
     "metadata": {},
     "output_type": "execute_result"
    }
   ],
   "source": [
    "# 차원이 축소되었음에도 불구하고 100% 설명이 가능하다. \n",
    "pca.explained_variance_ratio_.sum()"
   ]
  },
  {
   "cell_type": "code",
   "execution_count": 49,
   "metadata": {},
   "outputs": [
    {
     "name": "stdout",
     "output_type": "stream",
     "text": [
      "0.8294001966568338\n",
      "0.7420546932742055\n",
      "#Used features count: 186 out of 20085\n"
     ]
    }
   ],
   "source": [
    "import numpy as np \n",
    "lasso_clf = LogisticRegression(penalty='l1', solver='liblinear', C=1)\n",
    "lasso_clf.fit(x_train_pca, y_train)\n",
    "\n",
    "print(lasso_clf.score(x_train_pca, y_train))\n",
    "print(lasso_clf.score(x_test_pca, y_test))\n",
    "\n",
    "print('#Used features count: {}'.format(np.sum(lasso_clf.coef_ != 0)), 'out of', X_train_tfidf.shape[1])"
   ]
  },
  {
   "cell_type": "code",
   "execution_count": 55,
   "metadata": {},
   "outputs": [
    {
     "name": "stdout",
     "output_type": "stream",
     "text": [
      "PCA Converted X shape:  (2034, 186)\n",
      "Sum of explained variance ratio: 0.316\n",
      "#Train set score: 0.850\n",
      "#Test set score: 0.743\n"
     ]
    }
   ],
   "source": [
    "pca = PCA(n_components=np.sum(lasso_clf.coef_!=0), random_state=7)\n",
    "\n",
    "x_train_pca = pca.fit_transform(X_train_tfidf.toarray())\n",
    "x_test_pca = pca.transform(X_test_tfidf.toarray())\n",
    "\n",
    "print('PCA Converted X shape: ', x_train_pca.shape)\n",
    "print('Sum of explained variance ratio: {:.3f}'.format(pca.explained_variance_ratio_.sum()))\n",
    "\n",
    "lr_clf.fit(x_train_pca, y_train)\n",
    "print('#Train set score: {:.3f}'.format(lr_clf.score(x_train_pca, y_train)))\n",
    "print('#Test set score: {:.3f}'.format(lr_clf.score(x_test_pca, y_test)))"
   ]
  },
  {
   "cell_type": "code",
   "execution_count": 56,
   "metadata": {},
   "outputs": [
    {
     "name": "stdout",
     "output_type": "stream",
     "text": [
      "PCA Converted X shape:  (2034, 100)\n",
      "Sum of explained variance ratio: 0.211\n",
      "#Train set score: 0.807\n",
      "#Test set score: 0.738\n"
     ]
    }
   ],
   "source": [
    "pca = PCA(n_components=100, random_state=7)\n",
    "\n",
    "x_train_pca = pca.fit_transform(X_train_tfidf.toarray())\n",
    "x_test_pca = pca.transform(X_test_tfidf.toarray())\n",
    "\n",
    "print('PCA Converted X shape: ', x_train_pca.shape)\n",
    "print('Sum of explained variance ratio: {:.3f}'.format(pca.explained_variance_ratio_.sum()))\n",
    "\n",
    "lr_clf.fit(x_train_pca, y_train)\n",
    "print('#Train set score: {:.3f}'.format(lr_clf.score(x_train_pca, y_train)))\n",
    "print('#Test set score: {:.3f}'.format(lr_clf.score(x_test_pca, y_test)))"
   ]
  }
 ],
 "metadata": {
  "interpreter": {
   "hash": "96cf18f209edf6220e7043c3825950920f4c7ad96ff42ffae85e8b73f5a9541f"
  },
  "kernelspec": {
   "display_name": "Python 3.9.7 ('base')",
   "language": "python",
   "name": "python3"
  },
  "language_info": {
   "codemirror_mode": {
    "name": "ipython",
    "version": 3
   },
   "file_extension": ".py",
   "mimetype": "text/x-python",
   "name": "python",
   "nbconvert_exporter": "python",
   "pygments_lexer": "ipython3",
   "version": "3.9.7"
  },
  "orig_nbformat": 4
 },
 "nbformat": 4,
 "nbformat_minor": 2
}
